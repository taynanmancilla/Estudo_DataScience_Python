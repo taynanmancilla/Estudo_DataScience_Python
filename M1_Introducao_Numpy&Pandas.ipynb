{
  "nbformat": 4,
  "nbformat_minor": 0,
  "metadata": {
    "colab": {
      "name": "M1 - Introducao - Numpy&Pandas.ipynb",
      "provenance": [],
      "authorship_tag": "ABX9TyMqzELuKyLo/z1v0+0ei4Wa",
      "include_colab_link": true
    },
    "kernelspec": {
      "name": "python3",
      "display_name": "Python 3"
    },
    "language_info": {
      "name": "python"
    }
  },
  "cells": [
    {
      "cell_type": "markdown",
      "metadata": {
        "id": "view-in-github",
        "colab_type": "text"
      },
      "source": [
        "<a href=\"https://colab.research.google.com/github/taynanmancilla/Estudo_DataScience_Python/blob/main/M1_Introducao_Numpy%26Pandas.ipynb\" target=\"_parent\"><img src=\"https://colab.research.google.com/assets/colab-badge.svg\" alt=\"Open In Colab\"/></a>"
      ]
    },
    {
      "cell_type": "markdown",
      "source": [
        "# **Data Science com Python**\n",
        "\n",
        "1.   Introdução a Bibliotecas\n",
        "\n",
        "## Módulo 01 - Introdução ao Python"
      ],
      "metadata": {
        "id": "3E56wfTaVHVO"
      }
    },
    {
      "cell_type": "markdown",
      "source": [
        "Esse documento relata o aprendizado sobre as bibliotecas Pandas e Numpy\n",
        "\n",
        "Do módulo 1 do curso de Data Science para o Mercado financeiro da MODAL"
      ],
      "metadata": {
        "id": "JMEyA_bbVk-f"
      }
    },
    {
      "cell_type": "markdown",
      "source": [
        "# 19. Trabalhando com Bibliotecas!"
      ],
      "metadata": {
        "id": "-zPx2CFPWx3m"
      }
    },
    {
      "cell_type": "markdown",
      "source": [
        "1. O que são bibliotecas\n",
        "2. Importância de se utilizar bibliotecas"
      ],
      "metadata": {
        "id": "2h9vR68WfD7-"
      }
    },
    {
      "cell_type": "code",
      "source": [
        "# Declaração:\n",
        "import numpy as np\n",
        "\n",
        "import pandas as pd"
      ],
      "metadata": {
        "id": "hyDodP8siLvk"
      },
      "execution_count": null,
      "outputs": []
    },
    {
      "cell_type": "markdown",
      "source": [
        "## 19.1 Numpy"
      ],
      "metadata": {
        "id": "WJeuqrVfiWPU"
      }
    },
    {
      "cell_type": "markdown",
      "source": [
        "O principal tipo de objeto que criamos com NUMPY é o 'Array'\n",
        "\n",
        "Para cirar arrays, temos diversas funções diferentes, cada um servido a um propósito específico\n",
        "\n",
        "Por exempo, podemos criar arrays que contém apenas zeros"
      ],
      "metadata": {
        "id": "LyzmmrTqim9t"
      }
    },
    {
      "cell_type": "code",
      "source": [
        "a = np.zeros(3)"
      ],
      "metadata": {
        "id": "Znx6-EGNjLC5"
      },
      "execution_count": null,
      "outputs": []
    },
    {
      "cell_type": "code",
      "source": [
        "a"
      ],
      "metadata": {
        "colab": {
          "base_uri": "https://localhost:8080/"
        },
        "id": "lsCqgJoEjY6-",
        "outputId": "f59471ab-ae28-460b-fa15-1ae68d553dc0"
      },
      "execution_count": null,
      "outputs": [
        {
          "output_type": "execute_result",
          "data": {
            "text/plain": [
              "array([0., 0., 0.])"
            ]
          },
          "metadata": {},
          "execution_count": 4
        }
      ]
    },
    {
      "cell_type": "code",
      "source": [
        "# Atributo shape retorna dimensões do array\n",
        "\n",
        "a.shape # Nesse caso (3colunas, 1linha)"
      ],
      "metadata": {
        "colab": {
          "base_uri": "https://localhost:8080/"
        },
        "id": "p6_-xWn2jddM",
        "outputId": "fd1cc2f2-c6f2-4488-b9d3-3554d0c45c3f"
      },
      "execution_count": null,
      "outputs": [
        {
          "output_type": "execute_result",
          "data": {
            "text/plain": [
              "(3,)"
            ]
          },
          "metadata": {},
          "execution_count": 5
        }
      ]
    },
    {
      "cell_type": "code",
      "source": [
        "# As dimensões são manipuláveis. Logo, podemos especificar o número de linhas e colunas:\n",
        "\n",
        "a.shape = (3,1)"
      ],
      "metadata": {
        "id": "qk4oEXLRjlW_"
      },
      "execution_count": null,
      "outputs": []
    },
    {
      "cell_type": "code",
      "source": [
        "a.shape"
      ],
      "metadata": {
        "colab": {
          "base_uri": "https://localhost:8080/"
        },
        "id": "L5-B-sg0kIao",
        "outputId": "f94debf8-ab82-4921-a0c3-4cb1082d634d"
      },
      "execution_count": null,
      "outputs": [
        {
          "output_type": "execute_result",
          "data": {
            "text/plain": [
              "(3, 1)"
            ]
          },
          "metadata": {},
          "execution_count": 7
        }
      ]
    },
    {
      "cell_type": "code",
      "source": [
        "a"
      ],
      "metadata": {
        "colab": {
          "base_uri": "https://localhost:8080/"
        },
        "id": "KkQ5u0x1kK-C",
        "outputId": "db8c37a1-7f06-42d5-8c05-7a41b60bf263"
      },
      "execution_count": null,
      "outputs": [
        {
          "output_type": "execute_result",
          "data": {
            "text/plain": [
              "array([[0.],\n",
              "       [0.],\n",
              "       [0.]])"
            ]
          },
          "metadata": {},
          "execution_count": 8
        }
      ]
    },
    {
      "cell_type": "markdown",
      "source": [
        "Vamos criar array contendo apenas '1'"
      ],
      "metadata": {
        "id": "ByNMbDMLkMYp"
      }
    },
    {
      "cell_type": "code",
      "source": [
        "b = np.ones(10)"
      ],
      "metadata": {
        "id": "jVt4w1pBkVmx"
      },
      "execution_count": null,
      "outputs": []
    },
    {
      "cell_type": "code",
      "source": [
        "b"
      ],
      "metadata": {
        "colab": {
          "base_uri": "https://localhost:8080/"
        },
        "id": "srskgKLMkbQ-",
        "outputId": "c85eea2d-ed86-4caa-b357-f9929772e000"
      },
      "execution_count": null,
      "outputs": [
        {
          "output_type": "execute_result",
          "data": {
            "text/plain": [
              "array([1., 1., 1., 1., 1., 1., 1., 1., 1., 1.])"
            ]
          },
          "metadata": {},
          "execution_count": 10
        }
      ]
    },
    {
      "cell_type": "markdown",
      "source": [
        "Agora vamos criar Arrays vazios"
      ],
      "metadata": {
        "id": "z8q2qNzMkb1o"
      }
    },
    {
      "cell_type": "code",
      "source": [
        "c = np.empty(4)"
      ],
      "metadata": {
        "id": "VM0KqLPukorw"
      },
      "execution_count": null,
      "outputs": []
    },
    {
      "cell_type": "code",
      "source": [
        "# Veja que mesmo sendo próximo a 'vazio', os elementos da lista são não-nulos\n",
        "c"
      ],
      "metadata": {
        "colab": {
          "base_uri": "https://localhost:8080/"
        },
        "id": "EaSUnYDFku-B",
        "outputId": "5f3378a6-b067-4f1b-fbad-f108b2994c52"
      },
      "execution_count": null,
      "outputs": [
        {
          "output_type": "execute_result",
          "data": {
            "text/plain": [
              "array([5.e-324, 5.e-324, 5.e-324, 0.e+000])"
            ]
          },
          "metadata": {},
          "execution_count": 12
        }
      ]
    },
    {
      "cell_type": "markdown",
      "source": [
        "Podemos criar um array determinando início, fim e número de componentes"
      ],
      "metadata": {
        "id": "rKZFzWjVkwIy"
      }
    },
    {
      "cell_type": "code",
      "source": [
        "#(Começo, Fim, n°Componentes)\n",
        "\n",
        "d = np.linspace(3, 15, 10)"
      ],
      "metadata": {
        "id": "inLf2k-llIjE"
      },
      "execution_count": null,
      "outputs": []
    },
    {
      "cell_type": "code",
      "source": [
        "d"
      ],
      "metadata": {
        "colab": {
          "base_uri": "https://localhost:8080/"
        },
        "id": "8N1VtConlbCE",
        "outputId": "4f536244-62d2-4c30-cfa6-ade7865a44dd"
      },
      "execution_count": null,
      "outputs": [
        {
          "output_type": "execute_result",
          "data": {
            "text/plain": [
              "array([ 3.        ,  4.33333333,  5.66666667,  7.        ,  8.33333333,\n",
              "        9.66666667, 11.        , 12.33333333, 13.66666667, 15.        ])"
            ]
          },
          "metadata": {},
          "execution_count": 14
        }
      ]
    },
    {
      "cell_type": "markdown",
      "source": [
        "Podemos especificar manualmente os elementos do array"
      ],
      "metadata": {
        "id": "m0sXNQ73le3D"
      }
    },
    {
      "cell_type": "code",
      "source": [
        "# Array com apenas o n° 10\n",
        "\n",
        "e = np.array(10)"
      ],
      "metadata": {
        "id": "_zwvfxhdlwnm"
      },
      "execution_count": null,
      "outputs": []
    },
    {
      "cell_type": "code",
      "source": [
        "e"
      ],
      "metadata": {
        "colab": {
          "base_uri": "https://localhost:8080/"
        },
        "id": "vT5VrMfDl44i",
        "outputId": "f938c23e-5015-4bdd-b80a-034e6f6594fd"
      },
      "execution_count": null,
      "outputs": [
        {
          "output_type": "execute_result",
          "data": {
            "text/plain": [
              "array(10)"
            ]
          },
          "metadata": {},
          "execution_count": 16
        }
      ]
    },
    {
      "cell_type": "code",
      "source": [
        "# Passar em forma de lista quando for mais de 1 elemento\n",
        "\n",
        "f = np.array([1,2,3,4,5])"
      ],
      "metadata": {
        "id": "-k2py3Bll5jO"
      },
      "execution_count": null,
      "outputs": []
    },
    {
      "cell_type": "code",
      "source": [
        "f"
      ],
      "metadata": {
        "colab": {
          "base_uri": "https://localhost:8080/"
        },
        "id": "Cli91cIwmQ1h",
        "outputId": "5abf77ba-0ff0-4adc-f2e2-ebb0990313bc"
      },
      "execution_count": null,
      "outputs": [
        {
          "output_type": "execute_result",
          "data": {
            "text/plain": [
              "array([1, 2, 3, 4, 5])"
            ]
          },
          "metadata": {},
          "execution_count": 18
        }
      ]
    },
    {
      "cell_type": "markdown",
      "source": [
        "Transformando uma Lista em um Array"
      ],
      "metadata": {
        "id": "ztPXOsz5mZ8D"
      }
    },
    {
      "cell_type": "code",
      "source": [
        "lista = [4,5,6,7,8,9]"
      ],
      "metadata": {
        "id": "546eP2URmikF"
      },
      "execution_count": null,
      "outputs": []
    },
    {
      "cell_type": "code",
      "source": [
        "g = np.array(lista)"
      ],
      "metadata": {
        "id": "Bj3EOAFFmov7"
      },
      "execution_count": null,
      "outputs": []
    },
    {
      "cell_type": "code",
      "source": [
        "g"
      ],
      "metadata": {
        "colab": {
          "base_uri": "https://localhost:8080/"
        },
        "id": "FjUIohBWmsLj",
        "outputId": "7148b868-5092-4219-8622-4dfb3e4b07db"
      },
      "execution_count": null,
      "outputs": [
        {
          "output_type": "execute_result",
          "data": {
            "text/plain": [
              "array([4, 5, 6, 7, 8, 9])"
            ]
          },
          "metadata": {},
          "execution_count": 21
        }
      ]
    },
    {
      "cell_type": "code",
      "source": [
        "type(g)"
      ],
      "metadata": {
        "colab": {
          "base_uri": "https://localhost:8080/"
        },
        "id": "a9RQy4SPms8D",
        "outputId": "778ea3b0-7e2b-4574-ca50-2d7e75312c57"
      },
      "execution_count": null,
      "outputs": [
        {
          "output_type": "execute_result",
          "data": {
            "text/plain": [
              "numpy.ndarray"
            ]
          },
          "metadata": {},
          "execution_count": 22
        }
      ]
    },
    {
      "cell_type": "markdown",
      "source": [
        "Lista de Listas"
      ],
      "metadata": {
        "id": "MgqoGvFrmwR7"
      }
    },
    {
      "cell_type": "code",
      "source": [
        "lista_listas = [[1,2,3,4], [5,6,7,8,9]]"
      ],
      "metadata": {
        "id": "zUlT9pINnFPs"
      },
      "execution_count": null,
      "outputs": []
    },
    {
      "cell_type": "code",
      "source": [
        "h = np.array(lista_listas)"
      ],
      "metadata": {
        "id": "os1zp0bunPgK"
      },
      "execution_count": null,
      "outputs": []
    },
    {
      "cell_type": "code",
      "source": [
        "h"
      ],
      "metadata": {
        "colab": {
          "base_uri": "https://localhost:8080/"
        },
        "id": "csYgJ9-hnYti",
        "outputId": "f41db048-f236-4658-cea9-9f2bb8ba0b40"
      },
      "execution_count": null,
      "outputs": [
        {
          "output_type": "execute_result",
          "data": {
            "text/plain": [
              "array([list([1, 2, 3, 4]), list([5, 6, 7, 8, 9])], dtype=object)"
            ]
          },
          "metadata": {},
          "execution_count": 25
        }
      ]
    },
    {
      "cell_type": "markdown",
      "source": [
        "Criando Arrays aleatórios"
      ],
      "metadata": {
        "id": "KQPdsd0RnfzJ"
      }
    },
    {
      "cell_type": "code",
      "source": [
        "# De 0 a 10 com 6 elementos\n",
        "# Dessa forma novos números são gerados a cada execução\n",
        "\n",
        "np.random.randint(0, 10, size = 6)"
      ],
      "metadata": {
        "colab": {
          "base_uri": "https://localhost:8080/"
        },
        "id": "gjdFpOrCnzuw",
        "outputId": "735994cd-a7a9-4c61-dd12-ae85b467d022"
      },
      "execution_count": null,
      "outputs": [
        {
          "output_type": "execute_result",
          "data": {
            "text/plain": [
              "array([0, 5, 7, 7, 8, 3])"
            ]
          },
          "metadata": {},
          "execution_count": 26
        }
      ]
    },
    {
      "cell_type": "code",
      "source": [
        "# 'seed': padrão de config pra manter a aleatoriedade\n",
        "# Usando o seed, a aleatoriedade gerada fica fixa\n",
        "\n",
        "np.random.seed(10)\n",
        "np.random.randint(0, 10, size = 6)"
      ],
      "metadata": {
        "colab": {
          "base_uri": "https://localhost:8080/"
        },
        "id": "2Sz2zOtzoUQp",
        "outputId": "dfa252e3-ed86-43aa-c1f2-4f941e0246c0"
      },
      "execution_count": null,
      "outputs": [
        {
          "output_type": "execute_result",
          "data": {
            "text/plain": [
              "array([9, 4, 0, 1, 9, 0])"
            ]
          },
          "metadata": {},
          "execution_count": 27
        }
      ]
    },
    {
      "cell_type": "code",
      "source": [
        "np.random.seed(0)"
      ],
      "metadata": {
        "id": "ap0O4E9bpAlO"
      },
      "execution_count": null,
      "outputs": []
    },
    {
      "cell_type": "code",
      "source": [
        "i = np.random.randint(10, size = 6)"
      ],
      "metadata": {
        "id": "8KRViNZvpioY"
      },
      "execution_count": null,
      "outputs": []
    },
    {
      "cell_type": "code",
      "source": [
        "i"
      ],
      "metadata": {
        "colab": {
          "base_uri": "https://localhost:8080/"
        },
        "id": "4rbc6g5apps9",
        "outputId": "3ce62f35-4273-4777-9f9f-e5a17de6c28c"
      },
      "execution_count": null,
      "outputs": [
        {
          "output_type": "execute_result",
          "data": {
            "text/plain": [
              "array([5, 0, 3, 3, 7, 9])"
            ]
          },
          "metadata": {},
          "execution_count": 30
        }
      ]
    },
    {
      "cell_type": "markdown",
      "source": [
        "Podemos realizar indexação e slicing nos arrays:"
      ],
      "metadata": {
        "id": "c34jGKq6pqQF"
      }
    },
    {
      "cell_type": "code",
      "source": [
        "i[0]"
      ],
      "metadata": {
        "colab": {
          "base_uri": "https://localhost:8080/"
        },
        "id": "aAPZlEfDqSIc",
        "outputId": "73e1e778-5f2b-4aca-d0cd-de6626034b49"
      },
      "execution_count": null,
      "outputs": [
        {
          "output_type": "execute_result",
          "data": {
            "text/plain": [
              "5"
            ]
          },
          "metadata": {},
          "execution_count": 31
        }
      ]
    },
    {
      "cell_type": "code",
      "source": [
        "i[3]"
      ],
      "metadata": {
        "colab": {
          "base_uri": "https://localhost:8080/"
        },
        "id": "UwFvQyRHqfVh",
        "outputId": "b63a4322-a90f-40aa-e132-46dafc5d493d"
      },
      "execution_count": null,
      "outputs": [
        {
          "output_type": "execute_result",
          "data": {
            "text/plain": [
              "3"
            ]
          },
          "metadata": {},
          "execution_count": 32
        }
      ]
    },
    {
      "cell_type": "code",
      "source": [
        "i[-1]"
      ],
      "metadata": {
        "colab": {
          "base_uri": "https://localhost:8080/"
        },
        "id": "YiZ14xsTqhkr",
        "outputId": "e1a61636-838e-4cff-af92-47b2b7f25099"
      },
      "execution_count": null,
      "outputs": [
        {
          "output_type": "execute_result",
          "data": {
            "text/plain": [
              "9"
            ]
          },
          "metadata": {},
          "execution_count": 33
        }
      ]
    },
    {
      "cell_type": "markdown",
      "source": [
        "Operações Aritméticas"
      ],
      "metadata": {
        "id": "_hgzrRq4qjbB"
      }
    },
    {
      "cell_type": "code",
      "source": [
        "a = np.array([10,20,100,200,500])\n",
        "b = np.array([3,4,5,6,7])\n",
        "\n",
        "np.add(a, b) # Realiza a soma com numpy"
      ],
      "metadata": {
        "colab": {
          "base_uri": "https://localhost:8080/"
        },
        "id": "9GIAZIHQqyHZ",
        "outputId": "dc56548d-6b86-411e-fb89-b70bbc0859ad"
      },
      "execution_count": null,
      "outputs": [
        {
          "output_type": "execute_result",
          "data": {
            "text/plain": [
              "array([ 13,  24, 105, 206, 507])"
            ]
          },
          "metadata": {},
          "execution_count": 34
        }
      ]
    },
    {
      "cell_type": "code",
      "source": [
        "a + b # Da no mesmo"
      ],
      "metadata": {
        "colab": {
          "base_uri": "https://localhost:8080/"
        },
        "id": "0mHbR_trrO-2",
        "outputId": "72de827d-ded1-4f14-d5dd-427fa81e2329"
      },
      "execution_count": null,
      "outputs": [
        {
          "output_type": "execute_result",
          "data": {
            "text/plain": [
              "array([ 13,  24, 105, 206, 507])"
            ]
          },
          "metadata": {},
          "execution_count": 35
        }
      ]
    },
    {
      "cell_type": "code",
      "source": [
        "np.subtract(a, b)"
      ],
      "metadata": {
        "colab": {
          "base_uri": "https://localhost:8080/"
        },
        "id": "AEa2wfcrrFHp",
        "outputId": "790ca210-db5b-44b4-86ff-10d2ccd56398"
      },
      "execution_count": null,
      "outputs": [
        {
          "output_type": "execute_result",
          "data": {
            "text/plain": [
              "array([  7,  16,  95, 194, 493])"
            ]
          },
          "metadata": {},
          "execution_count": 36
        }
      ]
    },
    {
      "cell_type": "code",
      "source": [
        "a - b # Da no mesmo"
      ],
      "metadata": {
        "colab": {
          "base_uri": "https://localhost:8080/"
        },
        "id": "fDl7xhDwrZn7",
        "outputId": "ccf92228-eb21-4f45-ea0e-fea4e267bce8"
      },
      "execution_count": null,
      "outputs": [
        {
          "output_type": "execute_result",
          "data": {
            "text/plain": [
              "array([  7,  16,  95, 194, 493])"
            ]
          },
          "metadata": {},
          "execution_count": 37
        }
      ]
    },
    {
      "cell_type": "code",
      "source": [
        "np.multiply(a, b)"
      ],
      "metadata": {
        "colab": {
          "base_uri": "https://localhost:8080/"
        },
        "id": "QKjFS-vprsOh",
        "outputId": "9b84ab7d-8fda-4c77-981b-2f0baa22ff86"
      },
      "execution_count": null,
      "outputs": [
        {
          "output_type": "execute_result",
          "data": {
            "text/plain": [
              "array([  30,   80,  500, 1200, 3500])"
            ]
          },
          "metadata": {},
          "execution_count": 38
        }
      ]
    },
    {
      "cell_type": "code",
      "source": [
        "a * b # Da no mesmo"
      ],
      "metadata": {
        "colab": {
          "base_uri": "https://localhost:8080/"
        },
        "id": "6NKSD9YvryhA",
        "outputId": "90569edf-be24-4d48-9589-65fcbfe8e4b0"
      },
      "execution_count": null,
      "outputs": [
        {
          "output_type": "execute_result",
          "data": {
            "text/plain": [
              "array([  30,   80,  500, 1200, 3500])"
            ]
          },
          "metadata": {},
          "execution_count": 39
        }
      ]
    },
    {
      "cell_type": "code",
      "source": [
        "np.divide(a, b)"
      ],
      "metadata": {
        "colab": {
          "base_uri": "https://localhost:8080/"
        },
        "id": "ptaDGeo1r0RY",
        "outputId": "c551d90b-f010-4f0e-efa1-2a348d5c586c"
      },
      "execution_count": null,
      "outputs": [
        {
          "output_type": "execute_result",
          "data": {
            "text/plain": [
              "array([ 3.33333333,  5.        , 20.        , 33.33333333, 71.42857143])"
            ]
          },
          "metadata": {},
          "execution_count": 40
        }
      ]
    },
    {
      "cell_type": "code",
      "source": [
        "a / b"
      ],
      "metadata": {
        "colab": {
          "base_uri": "https://localhost:8080/"
        },
        "id": "IC3MctgAxSE3",
        "outputId": "c50f2ed4-1b7b-4ac7-adef-f47fc07f659f"
      },
      "execution_count": null,
      "outputs": [
        {
          "output_type": "execute_result",
          "data": {
            "text/plain": [
              "array([ 3.33333333,  5.        , 20.        , 33.33333333, 71.42857143])"
            ]
          },
          "metadata": {},
          "execution_count": 41
        }
      ]
    },
    {
      "cell_type": "markdown",
      "source": [
        "## 19.1 Pandas"
      ],
      "metadata": {
        "id": "arU91sVFxTxQ"
      }
    },
    {
      "cell_type": "markdown",
      "source": [
        "Baixar dados sobre ações com Yahoo Finance\n",
        "\n",
        "Temos um arquivo .csv com dados da WEGE3"
      ],
      "metadata": {
        "id": "XHczuWcMyDKa"
      }
    },
    {
      "cell_type": "markdown",
      "source": [
        "Função para abrir .csv com Pandas"
      ],
      "metadata": {
        "id": "eghKN9Jq059b"
      }
    },
    {
      "cell_type": "code",
      "source": [
        "dados = pd.read_csv('WEGE3.SA.csv')"
      ],
      "metadata": {
        "id": "1s5tK_kk1EM7"
      },
      "execution_count": null,
      "outputs": []
    },
    {
      "cell_type": "markdown",
      "source": [
        "Com atributo SHAPE podemos verificar as dimensões"
      ],
      "metadata": {
        "id": "PLYG77VS1XQX"
      }
    },
    {
      "cell_type": "code",
      "source": [
        "dados.shape"
      ],
      "metadata": {
        "id": "OfZFoWgu1ndx"
      },
      "execution_count": null,
      "outputs": []
    },
    {
      "cell_type": "markdown",
      "source": [
        "Com atributo DTYPES podemos verificar o tipo das variáveis"
      ],
      "metadata": {
        "id": "bJ2DZBJr1pE-"
      }
    },
    {
      "cell_type": "code",
      "source": [
        "#Retorna todas as colunas e seus tipos\n",
        "\n",
        "dados.dtypes"
      ],
      "metadata": {
        "id": "3KpiUo6x21Vc"
      },
      "execution_count": null,
      "outputs": []
    },
    {
      "cell_type": "code",
      "source": [
        "# Tipo do objeto de dados\n",
        "type(dados)"
      ],
      "metadata": {
        "id": "8vm_Hi3W25mn"
      },
      "execution_count": null,
      "outputs": []
    },
    {
      "cell_type": "markdown",
      "source": [
        "Método HEAD para ver as 5 primeiras linhas da tabela"
      ],
      "metadata": {
        "id": "PPyark0N3Skb"
      }
    },
    {
      "cell_type": "code",
      "source": [
        "# Colocar quantidade de linha no parenteses para visualizar\n",
        "# Caso nao passe nada, retorna 5 linhas\n",
        "\n",
        "dados.head()"
      ],
      "metadata": {
        "id": "EZ6Hnzkm3fdi"
      },
      "execution_count": null,
      "outputs": []
    },
    {
      "cell_type": "markdown",
      "source": [
        "Método TAIL para ver as últimas linhas da tabela"
      ],
      "metadata": {
        "id": "WtEXPAtW3nbu"
      }
    },
    {
      "cell_type": "code",
      "source": [
        "# Colocar quantidade de linha no parenteses para visualizar\n",
        "# Caso nao passe nada, retorna 5 linhas\n",
        "\n",
        "dados.tail()"
      ],
      "metadata": {
        "id": "TBz65GmD4GyJ"
      },
      "execution_count": null,
      "outputs": []
    },
    {
      "cell_type": "markdown",
      "source": [
        "Filtros em Data Frames"
      ],
      "metadata": {
        "id": "WDAGnukD4wvB"
      }
    },
    {
      "cell_type": "markdown",
      "source": [
        "**Extração utilizando o indice**\n",
        "\n",
        "dados.loc[ ]\n",
        "\n",
        "\n",
        "**Extração utilizando a posição da linha**\n",
        "\n",
        "dados.iloc[ ]"
      ],
      "metadata": {
        "id": "M4G_utKl46m8"
      }
    },
    {
      "cell_type": "code",
      "source": [
        "# Filtrando dados do índice 0\n",
        "\n",
        "dados.loc[0]"
      ],
      "metadata": {
        "id": "mNg2ajCI5QMo"
      },
      "execution_count": null,
      "outputs": []
    },
    {
      "cell_type": "code",
      "source": [
        "# Filtrando dados pela posição da linha\n",
        "\n",
        "dados.iloc[0]"
      ],
      "metadata": {
        "id": "xQKvU6Re5jTV"
      },
      "execution_count": null,
      "outputs": []
    },
    {
      "cell_type": "markdown",
      "source": [
        "obs: Esse nosso csv coincide a posição da linha com o índice, por isso os retornos são iguais"
      ],
      "metadata": {
        "id": "bYaXDNdC56X8"
      }
    },
    {
      "cell_type": "code",
      "source": [
        "# Além de filtrar linha, podemos filtrar células\n",
        "\n",
        "dados.iloc[0, 0] # Coluna 0 da linha 0"
      ],
      "metadata": {
        "id": "0sXTm4-O6NCu"
      },
      "execution_count": null,
      "outputs": []
    },
    {
      "cell_type": "code",
      "source": [
        "# Ou podemos filtrar colunas de nome específico\n",
        "\n",
        "dados['Open'] # Apenas dados da coluna 'Open'"
      ],
      "metadata": {
        "id": "F8ECtT9q6ccl"
      },
      "execution_count": null,
      "outputs": []
    },
    {
      "cell_type": "code",
      "source": [
        "# Podemos plotar apenas uma coluna\n",
        "\n",
        "dados['Open'].plot();"
      ],
      "metadata": {
        "id": "do4nYncc6xV_"
      },
      "execution_count": null,
      "outputs": []
    },
    {
      "cell_type": "code",
      "source": [
        "# Podemos usar essa sintaxe mais simples para plotagem\n",
        "# dataFrame.NomeColuna.plot()\n",
        "# Usar apenas quando não houver espaços vazios no nome da coluna\n",
        "\n",
        "dados.Open.plot();"
      ],
      "metadata": {
        "id": "RrzdfP3y66oz"
      },
      "execution_count": null,
      "outputs": []
    },
    {
      "cell_type": "markdown",
      "source": [
        "Combinando o que foi aprendido:"
      ],
      "metadata": {
        "id": "zUkfZyw58cqj"
      }
    },
    {
      "cell_type": "code",
      "source": [
        "# Filtrando 500 primeiras linhas\n",
        "\n",
        "dados.iloc[0:500]"
      ],
      "metadata": {
        "id": "_4IOxoGp7Iei"
      },
      "execution_count": null,
      "outputs": []
    },
    {
      "cell_type": "code",
      "source": [
        "# 500 primeiras linhas da coluna Close\n",
        "\n",
        "dados.iloc[0:500].Close"
      ],
      "metadata": {
        "id": "Aw6f2tFc8mjz"
      },
      "execution_count": null,
      "outputs": []
    },
    {
      "cell_type": "code",
      "source": [
        "# Plotando um seguimento de coluna\n",
        "# 500 primeiras linhas da coluna Close\n",
        "\n",
        "dados.iloc[0:500].Close.plot()"
      ],
      "metadata": {
        "id": "cd-g0Zxn8rSN"
      },
      "execution_count": null,
      "outputs": []
    },
    {
      "cell_type": "markdown",
      "source": [
        "Comando para configurar o Indice:\n",
        "\n",
        "dados.index"
      ],
      "metadata": {
        "id": "fUcg6y8589Bg"
      }
    },
    {
      "cell_type": "code",
      "source": [
        "# Transferindo valor da Data para o Indice\n",
        "# de tal forma que o índice do dataframe se torne a própria data\n",
        "\n",
        "dados.index = dados.Date"
      ],
      "metadata": {
        "id": "aD45ba9Q9Yi5"
      },
      "execution_count": null,
      "outputs": []
    },
    {
      "cell_type": "code",
      "source": [
        "dados.head()"
      ],
      "metadata": {
        "id": "IXiYgGxe908y"
      },
      "execution_count": null,
      "outputs": []
    },
    {
      "cell_type": "code",
      "source": [
        "# Agora sim vemos a diferença em usar o LOC[]\n",
        "\n",
        "dados.loc['2017-07-24']"
      ],
      "metadata": {
        "id": "NwyYatEP92dq"
      },
      "execution_count": null,
      "outputs": []
    },
    {
      "cell_type": "code",
      "source": [
        "# Lembrando que o ILOC[] continua sendo por localização\n",
        "\n",
        "dados.iloc[0]"
      ],
      "metadata": {
        "id": "Y-5AcpHm9_v2"
      },
      "execution_count": null,
      "outputs": []
    },
    {
      "cell_type": "markdown",
      "source": [
        "AGORA VAMOS TRABALHAR COM DIRETÓRIOS DIFERENTES"
      ],
      "metadata": {
        "id": "960rWdVO-Sdg"
      }
    },
    {
      "cell_type": "code",
      "source": [
        "import os"
      ],
      "metadata": {
        "id": "Vcoz-pgt-4Zn"
      },
      "execution_count": null,
      "outputs": []
    },
    {
      "cell_type": "markdown",
      "source": [
        "Qual o diretório que estamos trabalhando neste momento?"
      ],
      "metadata": {
        "id": "osqj1oxU--zh"
      }
    },
    {
      "cell_type": "code",
      "source": [
        "# Retorna o caminho\n",
        "\n",
        "os.getcwd()"
      ],
      "metadata": {
        "id": "3Ubuv9jz_E0y"
      },
      "execution_count": null,
      "outputs": []
    },
    {
      "cell_type": "markdown",
      "source": [
        "Passar caminho completo do arquivo, caso esteja em outra pasta:"
      ],
      "metadata": {
        "id": "7501BmDu_o_o"
      }
    },
    {
      "cell_type": "code",
      "source": [
        "pd.read_csv('/content/sample_data/california_housing_train.csv')"
      ],
      "metadata": {
        "id": "HvZRCOG__Iku"
      },
      "execution_count": null,
      "outputs": []
    },
    {
      "cell_type": "markdown",
      "source": [
        "Modificar Diretório"
      ],
      "metadata": {
        "id": "NFoncH16_i5L"
      }
    },
    {
      "cell_type": "code",
      "source": [
        "# chdir - Change Directory\n",
        "\n",
        "os.chdir('/content/sample_data')"
      ],
      "metadata": {
        "id": "6IqWH7CE_3iL"
      },
      "execution_count": null,
      "outputs": []
    },
    {
      "cell_type": "code",
      "source": [
        "os.getcwd()"
      ],
      "metadata": {
        "id": "n1ikfXI3AMh9"
      },
      "execution_count": null,
      "outputs": []
    },
    {
      "cell_type": "code",
      "source": [
        "pd.read_csv('california_housing_train.csv')"
      ],
      "metadata": {
        "id": "jq9NrVcuAOzi"
      },
      "execution_count": null,
      "outputs": []
    },
    {
      "cell_type": "markdown",
      "source": [
        "RENOMEAR COLUNAS DE UM DATAFRAME"
      ],
      "metadata": {
        "id": "vTYbbkOFAX_J"
      }
    },
    {
      "cell_type": "code",
      "source": [
        "# {'nomeColuna':'novoNome'}\n",
        "\n",
        "dados.rename(columns = {'Date':'Data', 'Adj Close':'WEGE3'})"
      ],
      "metadata": {
        "id": "QOfMp97MAqtq"
      },
      "execution_count": null,
      "outputs": []
    },
    {
      "cell_type": "code",
      "source": [
        "# Porem não alterou definirivamente\n",
        "\n",
        "dados.head()"
      ],
      "metadata": {
        "id": "vJjal84pBGkD"
      },
      "execution_count": null,
      "outputs": []
    },
    {
      "cell_type": "code",
      "source": [
        "# Adicionar 'inplace = True' para garantir a alteração\n",
        "\n",
        "dados.rename(columns = {'Date':'Data', 'Adj Close':'WEGE3'}, inplace = True)"
      ],
      "metadata": {
        "id": "bSW8mBonBKiE"
      },
      "execution_count": null,
      "outputs": []
    },
    {
      "cell_type": "code",
      "source": [
        "dados.head()"
      ],
      "metadata": {
        "id": "jgzgar0TBoYZ"
      },
      "execution_count": null,
      "outputs": []
    },
    {
      "cell_type": "markdown",
      "source": [
        "REMOVER COLUNAS DE UM DATAFRAME"
      ],
      "metadata": {
        "id": "-FRRH3yhBqpt"
      }
    },
    {
      "cell_type": "code",
      "source": [
        "# Especificar o AXIS no final sendo AXIS o eixo de linhas e colunas\n",
        "# axis = 0 é o eixo das linhas\n",
        "# axis = 1 é o eixo das colunas\n",
        "\n",
        "dados.drop(['Data', 'Volume'], axis = 1, inplace = True)"
      ],
      "metadata": {
        "id": "euqnamMWBx3b"
      },
      "execution_count": null,
      "outputs": []
    },
    {
      "cell_type": "code",
      "source": [
        "dados.head()"
      ],
      "metadata": {
        "id": "E_7DvCheClOD"
      },
      "execution_count": null,
      "outputs": []
    },
    {
      "cell_type": "markdown",
      "source": [
        "PLOTANDO TODAS AS COLUNAS"
      ],
      "metadata": {
        "id": "ouvSSCUACm_7"
      }
    },
    {
      "cell_type": "code",
      "source": [
        "dados.plot();"
      ],
      "metadata": {
        "id": "JVW0sKW7C4T7"
      },
      "execution_count": null,
      "outputs": []
    },
    {
      "cell_type": "markdown",
      "source": [
        "FILTRANDO APENAS ALGUMAS LINHAS ESPECÍFICAS"
      ],
      "metadata": {
        "id": "A3_0aGejC8nX"
      }
    },
    {
      "cell_type": "code",
      "source": [
        "dados.iloc[943:994].plot()"
      ],
      "metadata": {
        "id": "Mb8NYccgDOJv"
      },
      "execution_count": null,
      "outputs": []
    },
    {
      "cell_type": "markdown",
      "source": [
        "AUMENTANDO TAMANHO DO GRÁFICO"
      ],
      "metadata": {
        "id": "Ivn531NuDaop"
      }
    },
    {
      "cell_type": "code",
      "source": [
        "dados.iloc[943:994].plot(figsize = (8,8))"
      ],
      "metadata": {
        "id": "vkdWzprADmrI"
      },
      "execution_count": null,
      "outputs": []
    }
  ]
}